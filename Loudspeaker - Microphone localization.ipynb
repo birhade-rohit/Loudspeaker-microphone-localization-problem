{
 "cells": [
  {
   "cell_type": "markdown",
   "metadata": {},
   "source": [
    "# Q2"
   ]
  },
  {
   "cell_type": "markdown",
   "metadata": {},
   "source": [
    "As the exact positions of loudspeakers is given and the distances from microphone clusters to loudspeakers is given we first consider 2 loudspeaker points (2,2) & (2,6). Let us suppose the unknown microphone point is (x,y). Now, we use distance formula (x-2)2 +(y-2)2= c2 & (x-2)2 +(y-6)2= d2, c and d are known distances. Now, solving these two equations we get y = (d2-c2-28)/8, and then we also get x. Similarly, we can find all the coordinates of microphones.\n"
   ]
  },
  {
   "cell_type": "code",
   "execution_count": 3,
   "metadata": {},
   "outputs": [],
   "source": [
    "import numpy as np\n",
    "import pandas as pd\n",
    "import matplotlib.pyplot as plt\n",
    "import seaborn as sns\n",
    "import math\n",
    "%matplotlib inline"
   ]
  },
  {
   "cell_type": "code",
   "execution_count": 4,
   "metadata": {},
   "outputs": [],
   "source": [
    "a1 = np.reshape([[5.15,4.74,1.58,2.55],                              #cluster1\n",
    "[5.41,4.61,1.12,3.04],\n",
    "[5.83,5.10,1.41,3.16],\n",
    "[5.59,5.22,1.80,2.69]],(4,4))\n"
   ]
  },
  {
   "cell_type": "code",
   "execution_count": 5,
   "metadata": {},
   "outputs": [],
   "source": [
    "a2 = np.reshape([[5.02,1.12,3.64,6.10],                              #cluster2\n",
    "[5.52,1.59,3.77,6.50],\n",
    "[5.56,1.79,3.30,6.21],\n",
    "[5.06,1.38,3.15,5.80]],(4,4))"
   ]
  },
  {
   "cell_type": "code",
   "execution_count": 6,
   "metadata": {},
   "outputs": [],
   "source": [
    "a3 = np.reshape([[2.69,3.91,3.35,1.80],                               #cluster3\n",
    "[2.80,3.46,2.99,2.20],\n",
    "[3.28,3.73,2.65,1.97],\n",
    "[3.19,4.15,3.05,1.51]],(4,4))"
   ]
  },
  {
   "cell_type": "code",
   "execution_count": 7,
   "metadata": {},
   "outputs": [],
   "source": [
    "a4 = np.reshape([[1.41,5.10,7.07,5.10],                               #cluster4\n",
    "[1.57,4.91,7.17,5.45],\n",
    "[1.15,4.44,6.68,5.12],\n",
    "[0.92,4.65,6.58,4.74]],(4,4))"
   ]
  },
  {
   "cell_type": "code",
   "execution_count": 8,
   "metadata": {},
   "outputs": [],
   "source": [
    "a5 = np.reshape([[1.41,5.10,5.83,3.16],                                #cluster5\n",
    "[1.59,5.46,6.33,3.57],\n",
    "[1.17,5.14,6.32,3.86],\n",
    "[0.93,4.76,5.82,3.49]],(4,4))"
   ]
  },
  {
   "cell_type": "code",
   "execution_count": 9,
   "metadata": {},
   "outputs": [],
   "source": [
    "a6 = np.reshape([[3.16,1.41,5.10,5.83],                                #cluster6\n",
    "[3.66,1.32,5.23,6.25],\n",
    "[3.73,0.82,4.76,5.99],\n",
    "[3.25,0.96,4.61,5.56]],(4,4))"
   ]
  },
  {
   "cell_type": "code",
   "execution_count": 10,
   "metadata": {},
   "outputs": [],
   "source": [
    "A1 = pd.DataFrame(a1,columns=['a','b','c','d'],index=[1,2,3,4])\n",
    "A2 = pd.DataFrame(a2,columns=['a','b','c','d'],index=[1,2,3,4])\n",
    "A3 = pd.DataFrame(a3,columns=['a','b','c','d'],index=[1,2,3,4])\n",
    "A4 = pd.DataFrame(a4,columns=['a','b','c','d'],index=[1,2,3,4])\n",
    "A5 = pd.DataFrame(a5,columns=['a','b','c','d'],index=[1,2,3,4])\n",
    "A6 = pd.DataFrame(a6,columns=['a','b','c','d'],index=[1,2,3,4])"
   ]
  },
  {
   "cell_type": "code",
   "execution_count": 11,
   "metadata": {},
   "outputs": [],
   "source": [
    "l = [(2,2),(6,2),(6,6),(2,6)]"
   ]
  },
  {
   "cell_type": "code",
   "execution_count": 12,
   "metadata": {},
   "outputs": [],
   "source": [
    "cluster1 = []\n",
    "cluster2 = []\n",
    "cluster3 = []\n",
    "cluster4 = []\n",
    "cluster5 = []\n",
    "cluster6 = []"
   ]
  },
  {
   "cell_type": "code",
   "execution_count": 13,
   "metadata": {},
   "outputs": [],
   "source": [
    "for i in range(4):\n",
    "    y1 = np.round(((np.square(l[3][1]) - np.square(l[0][1])) - (np.square(a1[i][3]) - np.square(a1[i][0])))/(2*(l[3][1] - l[0][1])),2)\n",
    "    x1 = np.round(l[0][0] + np.sqrt(np.square(a1[i][0]) - np.square(y1-l[0][1])),2)\n",
    "    cluster1.append((x1,y1))\n",
    "    y2 = np.round(((np.square(l[3][1]) - np.square(l[0][1])) - (np.square(a2[i][3]) - np.square(a2[i][0])))/(2*(l[3][1] - l[0][1])),2)\n",
    "    x2 = np.round(l[0][0] + np.sqrt(np.square(a2[i][0]) - np.square(y2-l[0][1])),2)\n",
    "    cluster2.append((x2,y2))\n",
    "    y3 = np.round(((np.square(l[3][1]) - np.square(l[0][1])) - (np.square(a3[i][3]) - np.square(a3[i][0])))/(2*(l[3][1] - l[0][1])),2)\n",
    "    x3 = np.round(l[0][0] + np.sqrt(np.square(a3[i][0]) - np.square(y3-l[0][1])),2)\n",
    "    cluster3.append((x3,y3))\n",
    "    y4 = np.round(((np.square(l[3][1]) - np.square(l[0][1])) - (np.square(a4[i][3]) - np.square(a4[i][0])))/(2*(l[3][1] - l[0][1])),2)\n",
    "    x4 = np.round(l[0][0] - np.sqrt(np.square(a4[i][0]) - np.square(y4-l[0][1])),2) \n",
    "    cluster4.append((x4,y4))\n",
    "    y5 = np.round(((np.square(l[3][1]) - np.square(l[0][1])) - (np.square(a5[i][3]) - np.square(a5[i][0])))/(2*(l[3][1] - l[0][1])),2)\n",
    "    x5 = np.round(l[0][0] - np.sqrt(np.square(a5[i][0]) - np.square(y5-l[0][1])),2)\n",
    "    cluster5.append((x5,y5))\n",
    "    y6 = np.round(((np.square(l[3][1]) - np.square(l[0][1])) - (np.square(a6[i][3]) - np.square(a6[i][0])))/(2*(l[3][1] - l[0][1])),2)\n",
    "    x6 = np.round(l[0][0] + np.sqrt(np.square(a6[i][0]) - np.square(y6-l[0][1])),2)\n",
    "    cluster6.append((x6,y6)) \n",
    "    "
   ]
  },
  {
   "cell_type": "code",
   "execution_count": 14,
   "metadata": {},
   "outputs": [],
   "source": [
    "m1 = pd.DataFrame(cluster1,columns=['x','y'],index=[1,2,3,4])\n",
    "A1[['x','y']] = m1[['x','y']]\n",
    "m2 = pd.DataFrame(cluster2,columns=['x','y'],index=[1,2,3,4])\n",
    "A2[['x','y']] = m2[['x','y']]\n",
    "m3 = pd.DataFrame(cluster3,columns=['x','y'],index=[1,2,3,4])\n",
    "A3[['x','y']] = m3[['x','y']]\n",
    "m4 = pd.DataFrame(cluster4,columns=['x','y'],index=[1,2,3,4])\n",
    "A4[['x','y']] = m4[['x','y']]\n",
    "m5 = pd.DataFrame(cluster5,columns=['x','y'],index=[1,2,3,4])\n",
    "A5[['x','y']] = m5[['x','y']]\n",
    "m6 = pd.DataFrame(cluster6,columns=['x','y'],index=[1,2,3,4])\n",
    "A6[['x','y']] = m6[['x','y']]"
   ]
  },
  {
   "cell_type": "code",
   "execution_count": 61,
   "metadata": {},
   "outputs": [
    {
     "data": {
      "text/html": [
       "<div>\n",
       "<style scoped>\n",
       "    .dataframe tbody tr th:only-of-type {\n",
       "        vertical-align: middle;\n",
       "    }\n",
       "\n",
       "    .dataframe tbody tr th {\n",
       "        vertical-align: top;\n",
       "    }\n",
       "\n",
       "    .dataframe thead th {\n",
       "        text-align: right;\n",
       "    }\n",
       "</style>\n",
       "<table border=\"1\" class=\"dataframe\">\n",
       "  <thead>\n",
       "    <tr style=\"text-align: right;\">\n",
       "      <th></th>\n",
       "      <th>a</th>\n",
       "      <th>b</th>\n",
       "      <th>c</th>\n",
       "      <th>d</th>\n",
       "      <th>x</th>\n",
       "      <th>y</th>\n",
       "    </tr>\n",
       "  </thead>\n",
       "  <tbody>\n",
       "    <tr>\n",
       "      <th>1</th>\n",
       "      <td>5.15</td>\n",
       "      <td>4.74</td>\n",
       "      <td>1.58</td>\n",
       "      <td>2.55</td>\n",
       "      <td>4.5</td>\n",
       "      <td>6.5</td>\n",
       "    </tr>\n",
       "    <tr>\n",
       "      <th>2</th>\n",
       "      <td>5.41</td>\n",
       "      <td>4.61</td>\n",
       "      <td>1.12</td>\n",
       "      <td>3.04</td>\n",
       "      <td>5.0</td>\n",
       "      <td>6.5</td>\n",
       "    </tr>\n",
       "    <tr>\n",
       "      <th>3</th>\n",
       "      <td>5.83</td>\n",
       "      <td>5.10</td>\n",
       "      <td>1.41</td>\n",
       "      <td>3.16</td>\n",
       "      <td>5.0</td>\n",
       "      <td>7.0</td>\n",
       "    </tr>\n",
       "    <tr>\n",
       "      <th>4</th>\n",
       "      <td>5.59</td>\n",
       "      <td>5.22</td>\n",
       "      <td>1.80</td>\n",
       "      <td>2.69</td>\n",
       "      <td>4.5</td>\n",
       "      <td>7.0</td>\n",
       "    </tr>\n",
       "  </tbody>\n",
       "</table>\n",
       "</div>"
      ],
      "text/plain": [
       "      a     b     c     d    x    y\n",
       "1  5.15  4.74  1.58  2.55  4.5  6.5\n",
       "2  5.41  4.61  1.12  3.04  5.0  6.5\n",
       "3  5.83  5.10  1.41  3.16  5.0  7.0\n",
       "4  5.59  5.22  1.80  2.69  4.5  7.0"
      ]
     },
     "execution_count": 61,
     "metadata": {},
     "output_type": "execute_result"
    }
   ],
   "source": [
    "A1                                        #coordinates of cluster1 microphones are in x,y columns"
   ]
  },
  {
   "cell_type": "code",
   "execution_count": 62,
   "metadata": {},
   "outputs": [
    {
     "data": {
      "text/html": [
       "<div>\n",
       "<style scoped>\n",
       "    .dataframe tbody tr th:only-of-type {\n",
       "        vertical-align: middle;\n",
       "    }\n",
       "\n",
       "    .dataframe tbody tr th {\n",
       "        vertical-align: top;\n",
       "    }\n",
       "\n",
       "    .dataframe thead th {\n",
       "        text-align: right;\n",
       "    }\n",
       "</style>\n",
       "<table border=\"1\" class=\"dataframe\">\n",
       "  <thead>\n",
       "    <tr style=\"text-align: right;\">\n",
       "      <th></th>\n",
       "      <th>a</th>\n",
       "      <th>b</th>\n",
       "      <th>c</th>\n",
       "      <th>d</th>\n",
       "      <th>x</th>\n",
       "      <th>y</th>\n",
       "    </tr>\n",
       "  </thead>\n",
       "  <tbody>\n",
       "    <tr>\n",
       "      <th>1</th>\n",
       "      <td>5.02</td>\n",
       "      <td>1.12</td>\n",
       "      <td>3.64</td>\n",
       "      <td>6.10</td>\n",
       "      <td>7.00</td>\n",
       "      <td>2.50</td>\n",
       "    </tr>\n",
       "    <tr>\n",
       "      <th>2</th>\n",
       "      <td>5.52</td>\n",
       "      <td>1.59</td>\n",
       "      <td>3.77</td>\n",
       "      <td>6.50</td>\n",
       "      <td>7.49</td>\n",
       "      <td>2.53</td>\n",
       "    </tr>\n",
       "    <tr>\n",
       "      <th>3</th>\n",
       "      <td>5.56</td>\n",
       "      <td>1.79</td>\n",
       "      <td>3.30</td>\n",
       "      <td>6.21</td>\n",
       "      <td>7.46</td>\n",
       "      <td>3.04</td>\n",
       "    </tr>\n",
       "    <tr>\n",
       "      <th>4</th>\n",
       "      <td>5.06</td>\n",
       "      <td>1.38</td>\n",
       "      <td>3.15</td>\n",
       "      <td>5.80</td>\n",
       "      <td>6.96</td>\n",
       "      <td>3.00</td>\n",
       "    </tr>\n",
       "  </tbody>\n",
       "</table>\n",
       "</div>"
      ],
      "text/plain": [
       "      a     b     c     d     x     y\n",
       "1  5.02  1.12  3.64  6.10  7.00  2.50\n",
       "2  5.52  1.59  3.77  6.50  7.49  2.53\n",
       "3  5.56  1.79  3.30  6.21  7.46  3.04\n",
       "4  5.06  1.38  3.15  5.80  6.96  3.00"
      ]
     },
     "execution_count": 62,
     "metadata": {},
     "output_type": "execute_result"
    }
   ],
   "source": [
    "A2                                       #coordinates of cluster2 microphones are in x,y columns"
   ]
  },
  {
   "cell_type": "code",
   "execution_count": 63,
   "metadata": {},
   "outputs": [
    {
     "data": {
      "text/html": [
       "<div>\n",
       "<style scoped>\n",
       "    .dataframe tbody tr th:only-of-type {\n",
       "        vertical-align: middle;\n",
       "    }\n",
       "\n",
       "    .dataframe tbody tr th {\n",
       "        vertical-align: top;\n",
       "    }\n",
       "\n",
       "    .dataframe thead th {\n",
       "        text-align: right;\n",
       "    }\n",
       "</style>\n",
       "<table border=\"1\" class=\"dataframe\">\n",
       "  <thead>\n",
       "    <tr style=\"text-align: right;\">\n",
       "      <th></th>\n",
       "      <th>a</th>\n",
       "      <th>b</th>\n",
       "      <th>c</th>\n",
       "      <th>d</th>\n",
       "      <th>x</th>\n",
       "      <th>y</th>\n",
       "    </tr>\n",
       "  </thead>\n",
       "  <tbody>\n",
       "    <tr>\n",
       "      <th>1</th>\n",
       "      <td>2.69</td>\n",
       "      <td>3.91</td>\n",
       "      <td>3.35</td>\n",
       "      <td>1.80</td>\n",
       "      <td>2.99</td>\n",
       "      <td>4.50</td>\n",
       "    </tr>\n",
       "    <tr>\n",
       "      <th>2</th>\n",
       "      <td>2.80</td>\n",
       "      <td>3.46</td>\n",
       "      <td>2.99</td>\n",
       "      <td>2.20</td>\n",
       "      <td>3.47</td>\n",
       "      <td>4.38</td>\n",
       "    </tr>\n",
       "    <tr>\n",
       "      <th>3</th>\n",
       "      <td>3.28</td>\n",
       "      <td>3.73</td>\n",
       "      <td>2.65</td>\n",
       "      <td>1.97</td>\n",
       "      <td>3.61</td>\n",
       "      <td>4.86</td>\n",
       "    </tr>\n",
       "    <tr>\n",
       "      <th>4</th>\n",
       "      <td>3.19</td>\n",
       "      <td>4.15</td>\n",
       "      <td>3.05</td>\n",
       "      <td>1.51</td>\n",
       "      <td>3.11</td>\n",
       "      <td>4.99</td>\n",
       "    </tr>\n",
       "  </tbody>\n",
       "</table>\n",
       "</div>"
      ],
      "text/plain": [
       "      a     b     c     d     x     y\n",
       "1  2.69  3.91  3.35  1.80  2.99  4.50\n",
       "2  2.80  3.46  2.99  2.20  3.47  4.38\n",
       "3  3.28  3.73  2.65  1.97  3.61  4.86\n",
       "4  3.19  4.15  3.05  1.51  3.11  4.99"
      ]
     },
     "execution_count": 63,
     "metadata": {},
     "output_type": "execute_result"
    }
   ],
   "source": [
    "A3                                       #coordinates of cluster3 microphones are in x,y columns"
   ]
  },
  {
   "cell_type": "code",
   "execution_count": 64,
   "metadata": {},
   "outputs": [
    {
     "data": {
      "text/html": [
       "<div>\n",
       "<style scoped>\n",
       "    .dataframe tbody tr th:only-of-type {\n",
       "        vertical-align: middle;\n",
       "    }\n",
       "\n",
       "    .dataframe tbody tr th {\n",
       "        vertical-align: top;\n",
       "    }\n",
       "\n",
       "    .dataframe thead th {\n",
       "        text-align: right;\n",
       "    }\n",
       "</style>\n",
       "<table border=\"1\" class=\"dataframe\">\n",
       "  <thead>\n",
       "    <tr style=\"text-align: right;\">\n",
       "      <th></th>\n",
       "      <th>a</th>\n",
       "      <th>b</th>\n",
       "      <th>c</th>\n",
       "      <th>d</th>\n",
       "      <th>x</th>\n",
       "      <th>y</th>\n",
       "    </tr>\n",
       "  </thead>\n",
       "  <tbody>\n",
       "    <tr>\n",
       "      <th>1</th>\n",
       "      <td>1.41</td>\n",
       "      <td>5.10</td>\n",
       "      <td>7.07</td>\n",
       "      <td>5.10</td>\n",
       "      <td>1.01</td>\n",
       "      <td>1.00</td>\n",
       "    </tr>\n",
       "    <tr>\n",
       "      <th>2</th>\n",
       "      <td>1.57</td>\n",
       "      <td>4.91</td>\n",
       "      <td>7.17</td>\n",
       "      <td>5.45</td>\n",
       "      <td>1.29</td>\n",
       "      <td>0.60</td>\n",
       "    </tr>\n",
       "    <tr>\n",
       "      <th>3</th>\n",
       "      <td>1.15</td>\n",
       "      <td>4.44</td>\n",
       "      <td>6.68</td>\n",
       "      <td>5.12</td>\n",
       "      <td>1.70</td>\n",
       "      <td>0.89</td>\n",
       "    </tr>\n",
       "    <tr>\n",
       "      <th>4</th>\n",
       "      <td>0.92</td>\n",
       "      <td>4.65</td>\n",
       "      <td>6.58</td>\n",
       "      <td>4.74</td>\n",
       "      <td>1.40</td>\n",
       "      <td>1.30</td>\n",
       "    </tr>\n",
       "  </tbody>\n",
       "</table>\n",
       "</div>"
      ],
      "text/plain": [
       "      a     b     c     d     x     y\n",
       "1  1.41  5.10  7.07  5.10  1.01  1.00\n",
       "2  1.57  4.91  7.17  5.45  1.29  0.60\n",
       "3  1.15  4.44  6.68  5.12  1.70  0.89\n",
       "4  0.92  4.65  6.58  4.74  1.40  1.30"
      ]
     },
     "execution_count": 64,
     "metadata": {},
     "output_type": "execute_result"
    }
   ],
   "source": [
    "A4                                       #coordinates of cluster4 microphones are in x,y columns"
   ]
  },
  {
   "cell_type": "code",
   "execution_count": 65,
   "metadata": {},
   "outputs": [
    {
     "data": {
      "text/html": [
       "<div>\n",
       "<style scoped>\n",
       "    .dataframe tbody tr th:only-of-type {\n",
       "        vertical-align: middle;\n",
       "    }\n",
       "\n",
       "    .dataframe tbody tr th {\n",
       "        vertical-align: top;\n",
       "    }\n",
       "\n",
       "    .dataframe thead th {\n",
       "        text-align: right;\n",
       "    }\n",
       "</style>\n",
       "<table border=\"1\" class=\"dataframe\">\n",
       "  <thead>\n",
       "    <tr style=\"text-align: right;\">\n",
       "      <th></th>\n",
       "      <th>a</th>\n",
       "      <th>b</th>\n",
       "      <th>c</th>\n",
       "      <th>d</th>\n",
       "      <th>x</th>\n",
       "      <th>y</th>\n",
       "    </tr>\n",
       "  </thead>\n",
       "  <tbody>\n",
       "    <tr>\n",
       "      <th>1</th>\n",
       "      <td>1.41</td>\n",
       "      <td>5.10</td>\n",
       "      <td>5.83</td>\n",
       "      <td>3.16</td>\n",
       "      <td>1.01</td>\n",
       "      <td>3.00</td>\n",
       "    </tr>\n",
       "    <tr>\n",
       "      <th>2</th>\n",
       "      <td>1.59</td>\n",
       "      <td>5.46</td>\n",
       "      <td>6.33</td>\n",
       "      <td>3.57</td>\n",
       "      <td>0.58</td>\n",
       "      <td>2.72</td>\n",
       "    </tr>\n",
       "    <tr>\n",
       "      <th>3</th>\n",
       "      <td>1.17</td>\n",
       "      <td>5.14</td>\n",
       "      <td>6.32</td>\n",
       "      <td>3.86</td>\n",
       "      <td>0.87</td>\n",
       "      <td>2.31</td>\n",
       "    </tr>\n",
       "    <tr>\n",
       "      <th>4</th>\n",
       "      <td>0.93</td>\n",
       "      <td>4.76</td>\n",
       "      <td>5.82</td>\n",
       "      <td>3.49</td>\n",
       "      <td>1.28</td>\n",
       "      <td>2.59</td>\n",
       "    </tr>\n",
       "  </tbody>\n",
       "</table>\n",
       "</div>"
      ],
      "text/plain": [
       "      a     b     c     d     x     y\n",
       "1  1.41  5.10  5.83  3.16  1.01  3.00\n",
       "2  1.59  5.46  6.33  3.57  0.58  2.72\n",
       "3  1.17  5.14  6.32  3.86  0.87  2.31\n",
       "4  0.93  4.76  5.82  3.49  1.28  2.59"
      ]
     },
     "execution_count": 65,
     "metadata": {},
     "output_type": "execute_result"
    }
   ],
   "source": [
    "A5                                       #coordinates of cluster5 microphones are in x,y columns"
   ]
  },
  {
   "cell_type": "code",
   "execution_count": 66,
   "metadata": {},
   "outputs": [
    {
     "data": {
      "text/html": [
       "<div>\n",
       "<style scoped>\n",
       "    .dataframe tbody tr th:only-of-type {\n",
       "        vertical-align: middle;\n",
       "    }\n",
       "\n",
       "    .dataframe tbody tr th {\n",
       "        vertical-align: top;\n",
       "    }\n",
       "\n",
       "    .dataframe thead th {\n",
       "        text-align: right;\n",
       "    }\n",
       "</style>\n",
       "<table border=\"1\" class=\"dataframe\">\n",
       "  <thead>\n",
       "    <tr style=\"text-align: right;\">\n",
       "      <th></th>\n",
       "      <th>a</th>\n",
       "      <th>b</th>\n",
       "      <th>c</th>\n",
       "      <th>d</th>\n",
       "      <th>x</th>\n",
       "      <th>y</th>\n",
       "    </tr>\n",
       "  </thead>\n",
       "  <tbody>\n",
       "    <tr>\n",
       "      <th>1</th>\n",
       "      <td>3.16</td>\n",
       "      <td>1.41</td>\n",
       "      <td>5.10</td>\n",
       "      <td>5.83</td>\n",
       "      <td>5.00</td>\n",
       "      <td>1.00</td>\n",
       "    </tr>\n",
       "    <tr>\n",
       "      <th>2</th>\n",
       "      <td>3.66</td>\n",
       "      <td>1.32</td>\n",
       "      <td>5.23</td>\n",
       "      <td>6.25</td>\n",
       "      <td>5.45</td>\n",
       "      <td>0.79</td>\n",
       "    </tr>\n",
       "    <tr>\n",
       "      <th>3</th>\n",
       "      <td>3.73</td>\n",
       "      <td>0.82</td>\n",
       "      <td>4.76</td>\n",
       "      <td>5.99</td>\n",
       "      <td>5.65</td>\n",
       "      <td>1.25</td>\n",
       "    </tr>\n",
       "    <tr>\n",
       "      <th>4</th>\n",
       "      <td>3.25</td>\n",
       "      <td>0.96</td>\n",
       "      <td>4.61</td>\n",
       "      <td>5.56</td>\n",
       "      <td>5.20</td>\n",
       "      <td>1.46</td>\n",
       "    </tr>\n",
       "  </tbody>\n",
       "</table>\n",
       "</div>"
      ],
      "text/plain": [
       "      a     b     c     d     x     y\n",
       "1  3.16  1.41  5.10  5.83  5.00  1.00\n",
       "2  3.66  1.32  5.23  6.25  5.45  0.79\n",
       "3  3.73  0.82  4.76  5.99  5.65  1.25\n",
       "4  3.25  0.96  4.61  5.56  5.20  1.46"
      ]
     },
     "execution_count": 66,
     "metadata": {},
     "output_type": "execute_result"
    }
   ],
   "source": [
    "A6                                        #coordinates of cluster6 microphones are in x,y columns"
   ]
  },
  {
   "cell_type": "markdown",
   "metadata": {},
   "source": [
    "# Q1"
   ]
  },
  {
   "cell_type": "code",
   "execution_count": 15,
   "metadata": {},
   "outputs": [],
   "source": [
    "A = pd.concat([A1,A2,A3,A4,A5,A6],axis=0,ignore_index=True)"
   ]
  },
  {
   "cell_type": "code",
   "execution_count": 16,
   "metadata": {},
   "outputs": [],
   "source": [
    "A['Type'] = 'Microphone'"
   ]
  },
  {
   "cell_type": "code",
   "execution_count": 17,
   "metadata": {},
   "outputs": [],
   "source": [
    "e = np.reshape([[2,2],[6,2],[6,6],[2,6]],(4,2))"
   ]
  },
  {
   "cell_type": "code",
   "execution_count": 18,
   "metadata": {},
   "outputs": [],
   "source": [
    "e = pd.DataFrame(e,columns=['x','y'])"
   ]
  },
  {
   "cell_type": "code",
   "execution_count": 19,
   "metadata": {},
   "outputs": [],
   "source": [
    "e['Type'] = 'Loudspeaker'"
   ]
  },
  {
   "cell_type": "code",
   "execution_count": 20,
   "metadata": {},
   "outputs": [],
   "source": [
    "M = pd.concat([A[['x','y','Type']],e[['x','y','Type']]],axis=0,ignore_index=True)"
   ]
  },
  {
   "cell_type": "code",
   "execution_count": 60,
   "metadata": {},
   "outputs": [
    {
     "data": {
      "text/plain": [
       "<matplotlib.legend.Legend at 0x16ff0bace80>"
      ]
     },
     "execution_count": 60,
     "metadata": {},
     "output_type": "execute_result"
    },
    {
     "data": {
      "image/png": "[encoded data removed]",
      "text/plain": [
       "<Figure size 720x720 with 1 Axes>"
      ]
     },
     "metadata": {
      "needs_background": "light"
     },
     "output_type": "display_data"
    }
   ],
   "source": [
    "plt.figure(figsize=(10,10))\n",
    "k = sns.scatterplot(M['x'],M['y'],hue=M['Type'],style=M['Type'])\n",
    "k.legend(loc='center left', bbox_to_anchor=(1.25, 0.5), ncol=1)"
   ]
  },
  {
   "cell_type": "markdown",
   "metadata": {},
   "source": [
    "This is the given graph"
   ]
  },
  {
   "cell_type": "markdown",
   "metadata": {},
   "source": [
    "Following code gives the new co-ordinates of loudspeaker locations keeping microphes alligned on x & y axis"
   ]
  },
  {
   "cell_type": "code",
   "execution_count": 32,
   "metadata": {},
   "outputs": [],
   "source": [
    "new_x = []\n",
    "new_y = []\n",
    "x_y = []\n",
    "x1_y1= []\n",
    "x_p = []\n",
    "y_p = []"
   ]
  },
  {
   "cell_type": "code",
   "execution_count": 33,
   "metadata": {},
   "outputs": [],
   "source": [
    "for i in [A1,A2,A3,A4,A5,A6]:\n",
    "    for j in range(4):\n",
    "        angle = math.atan((i['y'][2]-i['y'][1])/(i['x'][2]-i['x'][1]))\n",
    "        l = [(2,2),(6,2),(6,6),(2,6)]\n",
    "        ox, oy = (i['x'][1],i['y'][1])\n",
    "        px, py = l[j]\n",
    "        qx =  np.round(math.cos(-angle) * (px - ox) - math.sin(-angle) * (py - oy),1)\n",
    "        qy =  np.round(math.sin(-angle) * (px - ox) + math.cos(-angle) * (py - oy),1)\n",
    "        x1 =  np.round(math.cos(-angle) * (i['x'][j+1] - i['x'][1]) - math.sin(-angle) * (i['y'][j+1] - i['y'][1]),1)\n",
    "        y1 =  np.round(math.sin(-angle) * (i['x'][j+1] - i['x'][1]) + math.cos(-angle) * (i['y'][j+1] - i['y'][1]),1)\n",
    "        x1_y1.append((x1,y1))\n",
    "        x_p.append(x1)\n",
    "        y_p.append(y1)\n",
    "        new_x.append(qx)\n",
    "        new_y.append(qy)\n",
    "        x_y.append((qx,qy))   "
   ]
  },
  {
   "cell_type": "markdown",
   "metadata": {},
   "source": [
    "These are the new-cordinates of loudspeakes with respect to each cluster by shifting origin at the 1st microphone of each cluster"
   ]
  },
  {
   "cell_type": "code",
   "execution_count": 34,
   "metadata": {},
   "outputs": [
    {
     "data": {
      "text/plain": [
       "[(-2.5, -4.5),\n",
       " (1.5, -4.5),\n",
       " (1.5, -0.5),\n",
       " (-2.5, -0.5),\n",
       " (-5.0, -0.2),\n",
       " (-1.0, -0.4),\n",
       " (-0.8, 3.6),\n",
       " (-4.8, 3.8),\n",
       " (-0.4, -2.7),\n",
       " (3.5, -1.7),\n",
       " (2.6, 2.2),\n",
       " (-1.3, 1.2),\n",
       " (-0.3, 1.4),\n",
       " (2.0, 4.7),\n",
       " (-1.2, 7.0),\n",
       " (-3.5, 3.7),\n",
       " (0.3, -1.4),\n",
       " (3.6, -3.6),\n",
       " (5.8, -0.2),\n",
       " (2.5, 2.0),\n",
       " (-3.1, -0.4),\n",
       " (0.5, 1.3),\n",
       " (-1.2, 5.0),\n",
       " (-4.8, 3.3)]"
      ]
     },
     "execution_count": 34,
     "metadata": {},
     "output_type": "execute_result"
    }
   ],
   "source": [
    "x_y    "
   ]
  },
  {
   "cell_type": "code",
   "execution_count": 28,
   "metadata": {},
   "outputs": [
    {
     "data": {
      "text/plain": [
       "[(0.0, 0.0),\n",
       " (0.5, 0.0),\n",
       " (0.5, 0.5),\n",
       " (0.0, 0.5),\n",
       " (0.0, 0.0),\n",
       " (0.5, -0.0),\n",
       " (0.5, 0.5),\n",
       " (-0.0, 0.5),\n",
       " (0.0, 0.0),\n",
       " (0.5, 0.0),\n",
       " (0.5, 0.5),\n",
       " (-0.0, 0.5),\n",
       " (0.0, 0.0),\n",
       " (0.5, 0.0),\n",
       " (0.5, 0.5),\n",
       " (-0.0, 0.5),\n",
       " (0.0, 0.0),\n",
       " (-0.5, 0.0),\n",
       " (-0.5, -0.5),\n",
       " (0.0, -0.5),\n",
       " (0.0, 0.0),\n",
       " (0.5, 0.0),\n",
       " (0.5, 0.5),\n",
       " (-0.0, 0.5)]"
      ]
     },
     "execution_count": 28,
     "metadata": {},
     "output_type": "execute_result"
    }
   ],
   "source": [
    "x1_y1"
   ]
  },
  {
   "cell_type": "code",
   "execution_count": 37,
   "metadata": {},
   "outputs": [
    {
     "data": {
      "text/plain": [
       "<function matplotlib.pyplot.show(*args, **kw)>"
      ]
     },
     "execution_count": 37,
     "metadata": {},
     "output_type": "execute_result"
    },
    {
     "data": {
      "image/png": "[encoded data removed]",
      "text/plain": [
       "<Figure size 432x288 with 1 Axes>"
      ]
     },
     "metadata": {
      "needs_background": "light"
     },
     "output_type": "display_data"
    }
   ],
   "source": [
    "plt.scatter(x_p[0:4],y_p[0:4])\n",
    "plt.scatter(new_x[2],new_y[2])\n",
    "plt.show"
   ]
  },
  {
   "cell_type": "markdown",
   "metadata": {},
   "source": [
    "Following code gives the required 24 plots."
   ]
  },
  {
   "cell_type": "code",
   "execution_count": 59,
   "metadata": {},
   "outputs": [
    {
     "data": {
      "image/png": "[encoded data removed]",
      "text/plain": [
       "<Figure size 720x720 with 1 Axes>"
      ]
     },
     "metadata": {
      "needs_background": "light"
     },
     "output_type": "display_data"
    },
    {
     "data": {
      "image/png": "[encoded data removed]",
      "text/plain": [
       "<Figure size 720x720 with 1 Axes>"
      ]
     },
     "metadata": {
      "needs_background": "light"
     },
     "output_type": "display_data"
    },
    {
     "data": {
      "image/png": "[encoded data removed]",
      "text/plain": [
       "<Figure size 720x720 with 1 Axes>"
      ]
     },
     "metadata": {
      "needs_background": "light"
     },
     "output_type": "display_data"
    },
    {
     "data": {
      "image/png": "[encoded data removed]",
      "text/plain": [
       "<Figure size 720x720 with 1 Axes>"
      ]
     },
     "metadata": {
      "needs_background": "light"
     },
     "output_type": "display_data"
    },
    {
     "data": {
      "image/png": "[encoded data removed]",
      "text/plain": [
       "<Figure size 720x720 with 1 Axes>"
      ]
     },
     "metadata": {
      "needs_background": "light"
     },
     "output_type": "display_data"
    },
    {
     "data": {
      "image/png": "[encoded data removed]",
      "text/plain": [
       "<Figure size 720x720 with 1 Axes>"
      ]
     },
     "metadata": {
      "needs_background": "light"
     },
     "output_type": "display_data"
    },
    {
     "data": {
      "image/png": "[encoded data removed]",
      "text/plain": [
       "<Figure size 720x720 with 1 Axes>"
      ]
     },
     "metadata": {
      "needs_background": "light"
     },
     "output_type": "display_data"
    },
    {
     "data": {
      "image/png": "[encoded data removed]",
      "text/plain": [
       "<Figure size 720x720 with 1 Axes>"
      ]
     },
     "metadata": {
      "needs_background": "light"
     },
     "output_type": "display_data"
    },
    {
     "data": {
      "image/png": "[encoded data removed]",
      "text/plain": [
       "<Figure size 720x720 with 1 Axes>"
      ]
     },
     "metadata": {
      "needs_background": "light"
     },
     "output_type": "display_data"
    },
    {
     "data": {
      "image/png": "[encoded data removed]",
      "text/plain": [
       "<Figure size 720x720 with 1 Axes>"
      ]
     },
     "metadata": {
      "needs_background": "light"
     },
     "output_type": "display_data"
    },
    {
     "data": {
      "image/png": "[encoded data removed]",
      "text/plain": [
       "<Figure size 720x720 with 1 Axes>"
      ]
     },
     "metadata": {
      "needs_background": "light"
     },
     "output_type": "display_data"
    },
    {
     "data": {
      "image/png": "[encoded data removed]",
      "text/plain": [
       "<Figure size 720x720 with 1 Axes>"
      ]
     },
     "metadata": {
      "needs_background": "light"
     },
     "output_type": "display_data"
    },
    {
     "data": {
      "image/png": "[encoded data removed]",
      "text/plain": [
       "<Figure size 720x720 with 1 Axes>"
      ]
     },
     "metadata": {
      "needs_background": "light"
     },
     "output_type": "display_data"
    },
    {
     "data": {
      "image/png": "[encoded data removed]",
      "text/plain": [
       "<Figure size 720x720 with 1 Axes>"
      ]
     },
     "metadata": {
      "needs_background": "light"
     },
     "output_type": "display_data"
    },
    {
     "data": {
      "image/png": "[encoded data removed]",
      "text/plain": [
       "<Figure size 720x720 with 1 Axes>"
      ]
     },
     "metadata": {
      "needs_background": "light"
     },
     "output_type": "display_data"
    },
    {
     "data": {
      "image/png": "[encoded data removed]",
      "text/plain": [
       "<Figure size 720x720 with 1 Axes>"
      ]
     },
     "metadata": {
      "needs_background": "light"
     },
     "output_type": "display_data"
    },
    {
     "data": {
      "image/png": "[encoded data removed]",
      "text/plain": [
       "<Figure size 720x720 with 1 Axes>"
      ]
     },
     "metadata": {
      "needs_background": "light"
     },
     "output_type": "display_data"
    },
    {
     "data": {
      "image/png": "[encoded data removed]",
      "text/plain": [
       "<Figure size 720x720 with 1 Axes>"
      ]
     },
     "metadata": {
      "needs_background": "light"
     },
     "output_type": "display_data"
    },
    {
     "data": {
      "image/png": "[encoded data removed]",
      "text/plain": [
       "<Figure size 720x720 with 1 Axes>"
      ]
     },
     "metadata": {
      "needs_background": "light"
     },
     "output_type": "display_data"
    },
    {
     "data": {
      "image/png": "[encoded data removed]",
      "text/plain": [
       "<Figure size 720x720 with 1 Axes>"
      ]
     },
     "metadata": {
      "needs_background": "light"
     },
     "output_type": "display_data"
    },
    {
     "data": {
      "image/png": "[encoded data removed]",
      "text/plain": [
       "<Figure size 720x720 with 1 Axes>"
      ]
     },
     "metadata": {
      "needs_background": "light"
     },
     "output_type": "display_data"
    },
    {
     "data": {
      "image/png": "[encoded data removed]",
      "text/plain": [
       "<Figure size 720x720 with 1 Axes>"
      ]
     },
     "metadata": {
      "needs_background": "light"
     },
     "output_type": "display_data"
    },
    {
     "data": {
      "image/png": "[encoded data removed]",
      "text/plain": [
       "<Figure size 720x720 with 1 Axes>"
      ]
     },
     "metadata": {
      "needs_background": "light"
     },
     "output_type": "display_data"
    },
    {
     "data": {
      "image/png": "[encoded data removed]",
      "text/plain": [
       "<Figure size 720x720 with 1 Axes>"
      ]
     },
     "metadata": {
      "needs_background": "light"
     },
     "output_type": "display_data"
    }
   ],
   "source": [
    "for k in [0,4,8,12,16,20]:\n",
    "    for o in range(4):\n",
    "        plt.figure(figsize=(10,10))\n",
    "        plt.scatter(x_p[k:k+4],y_p[k:k+4])\n",
    "        plt.scatter(new_x[k+o],new_y[k+o])\n",
    "        plt.xlabel('x-axis')\n",
    "        plt.ylabel('y-axis')\n",
    "        plt.xlim((-6,6))\n",
    "        plt.ylim((-5,6))\n",
    "        plt.show()\n",
    "        "
   ]
  },
  {
   "cell_type": "code",
   "execution_count": null,
   "metadata": {},
   "outputs": [],
   "source": []
  },
  {
   "cell_type": "code",
   "execution_count": null,
   "metadata": {},
   "outputs": [],
   "source": []
  },
  {
   "cell_type": "code",
   "execution_count": null,
   "metadata": {},
   "outputs": [],
   "source": []
  },
  {
   "cell_type": "code",
   "execution_count": null,
   "metadata": {},
   "outputs": [],
   "source": []
  },
  {
   "cell_type": "code",
   "execution_count": null,
   "metadata": {},
   "outputs": [],
   "source": []
  },
  {
   "cell_type": "code",
   "execution_count": null,
   "metadata": {},
   "outputs": [],
   "source": []
  },
  {
   "cell_type": "code",
   "execution_count": null,
   "metadata": {},
   "outputs": [],
   "source": []
  },
  {
   "cell_type": "code",
   "execution_count": null,
   "metadata": {},
   "outputs": [],
   "source": []
  },
  {
   "cell_type": "code",
   "execution_count": null,
   "metadata": {},
   "outputs": [],
   "source": []
  },
  {
   "cell_type": "code",
   "execution_count": null,
   "metadata": {},
   "outputs": [],
   "source": []
  },
  {
   "cell_type": "code",
   "execution_count": null,
   "metadata": {},
   "outputs": [],
   "source": []
  },
  {
   "cell_type": "code",
   "execution_count": null,
   "metadata": {},
   "outputs": [],
   "source": []
  }
 ],
 "metadata": {
  "kernelspec": {
   "display_name": "Python 3",
   "language": "python",
   "name": "python3"
  },
  "language_info": {
   "codemirror_mode": {
    "name": "ipython",
    "version": 3
   },
   "file_extension": ".py",
   "mimetype": "text/x-python",
   "name": "python",
   "nbconvert_exporter": "python",
   "pygments_lexer": "ipython3",
   "version": "3.7.3"
  }
 },
 "nbformat": 4,
 "nbformat_minor": 2
}
